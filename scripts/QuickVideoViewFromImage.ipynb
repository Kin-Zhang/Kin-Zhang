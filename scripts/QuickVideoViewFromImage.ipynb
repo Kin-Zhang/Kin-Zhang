{
 "cells": [
  {
   "cell_type": "markdown",
   "metadata": {},
   "source": [
    "QuickView\n",
    "\n",
    "此文本可以部署到服务器，然后通过ip:port进行连接 实现数据的快速查看\n",
    "此代码主要是通过读取文件夹里的图片信息进行整合，输出一个video 方便对数据集进行选择，以下我们会演示一个读取zod的文件夹内图片信息，然后输出视频"
   ]
  },
  {
   "cell_type": "code",
   "execution_count": 1,
   "metadata": {},
   "outputs": [
    {
     "name": "stderr",
     "output_type": "stream",
     "text": [
      "seq: 000000: 3212it [00:21, 147.75it/s]\n",
      "OpenCV: FFMPEG: tag 0x30395056/'VP90' is not supported with codec id 167 and format 'mp4 / MP4 (MPEG-4 Part 14)'\n",
      "OpenCV: FFMPEG: fallback to use tag 0x39307076/'vp09'\n",
      "  5%|▌         | 33/643 [00:15<04:53,  2.08it/s]\n"
     ]
    },
    {
     "ename": "KeyboardInterrupt",
     "evalue": "",
     "output_type": "error",
     "traceback": [
      "\u001b[0;31m---------------------------------------------------------------------------\u001b[0m",
      "\u001b[0;31mKeyboardInterrupt\u001b[0m                         Traceback (most recent call last)",
      "Cell \u001b[0;32mIn[1], line 40\u001b[0m\n\u001b[1;32m     38\u001b[0m out \u001b[39m=\u001b[39m cv2\u001b[39m.\u001b[39mVideoWriter(os\u001b[39m.\u001b[39mpath\u001b[39m.\u001b[39mjoin(BASE_FOLDER, save_video_folder_name, one_seq)\u001b[39m+\u001b[39m\u001b[39m'\u001b[39m\u001b[39m.mp4\u001b[39m\u001b[39m'\u001b[39m, cv2\u001b[39m.\u001b[39mVideoWriter_fourcc(\u001b[39m*\u001b[39m\u001b[39m'\u001b[39m\u001b[39mVP90\u001b[39m\u001b[39m'\u001b[39m), \u001b[39m1\u001b[39m\u001b[39m/\u001b[39mview_single_img_t, size)\n\u001b[1;32m     39\u001b[0m \u001b[39mfor\u001b[39;00m i \u001b[39min\u001b[39;00m tqdm(\u001b[39mrange\u001b[39m(\u001b[39mlen\u001b[39m(img_array))):\n\u001b[0;32m---> 40\u001b[0m     out\u001b[39m.\u001b[39;49mwrite(img_array[i])\n\u001b[1;32m     41\u001b[0m out\u001b[39m.\u001b[39mrelease()\n\u001b[1;32m     42\u001b[0m \u001b[39mprint\u001b[39m(\u001b[39m'\u001b[39m\u001b[39mDone and check here: \u001b[39m\u001b[39m'\u001b[39m, os\u001b[39m.\u001b[39mpath\u001b[39m.\u001b[39mjoin(BASE_FOLDER, save_video_folder_name, one_seq)\u001b[39m+\u001b[39m\u001b[39m'\u001b[39m\u001b[39m.mp4\u001b[39m\u001b[39m'\u001b[39m)\n",
      "\u001b[0;31mKeyboardInterrupt\u001b[0m: "
     ]
    }
   ],
   "source": [
    "import os, glob\n",
    "from tqdm import tqdm\n",
    "from pathlib import Path\n",
    "import numpy as np\n",
    "import cv2\n",
    "\n",
    "BASE_FOLDER = '/home/kin/data/zod'\n",
    "read_folder_name = 'drives' # Let's say ther are 000000-000028 folders\n",
    "img_folder_name = 'camera_front_blur' # all seqences have this folder\n",
    "save_video_folder_name = 'preview_video'\n",
    "view_single_img_t = 0.01 # [500ms, 2fps, since we need time to view data to check] if it's too slow, change to 10fps\n",
    "\n",
    "# 1. Read the folder\n",
    "for one_seq in sorted(os.listdir(os.path.join(BASE_FOLDER, read_folder_name))):\n",
    "    img_array = []\n",
    "    full_path = os.path.join(BASE_FOLDER, read_folder_name, one_seq, img_folder_name)\n",
    "    if os.path.exists(os.path.join(BASE_FOLDER, save_video_folder_name, one_seq)+'.mp4') == True:\n",
    "        print('Skip: ', os.path.join(BASE_FOLDER, save_video_folder_name, one_seq)+'.mp4', ' since it exists')\n",
    "        continue\n",
    "    total_img_num = len(os.listdir(full_path))\n",
    "    skip_flag = True if total_img_num>1000 else False\n",
    "    for i, one_img in tqdm(enumerate(sorted(os.listdir(full_path))), desc='seq: '+one_seq, total=total_img_num):\n",
    "        if skip_flag == True and i%5 != 0:\n",
    "            continue\n",
    "        img_path = os.path.join(full_path, one_img)\n",
    "        img = cv2.imread(img_path)\n",
    "        # if you want to concat multiple images\n",
    "        # im_v2 = cv2.vconcat([cv2.resize(fv,(1024,1024)), cv2.resize(right,(1024,768))])\n",
    "        # full_image = cv2.hconcat([im_v1, im_v2])\n",
    "        full_image = img\n",
    "        height, width, layers = full_image.shape\n",
    "        cv2.putText(full_image, one_seq+one_img, (10,100), cv2.FONT_HERSHEY_SIMPLEX, 3, (0, 0, 0), 2, cv2.LINE_AA)\n",
    "        img_array.append(full_image)\n",
    "    size = (width,height)\n",
    "    \n",
    "    # mkdir if not exist\n",
    "    Path(os.path.join(BASE_FOLDER, save_video_folder_name)).mkdir(parents=True, exist_ok=True)\n",
    "    out = cv2.VideoWriter(os.path.join(BASE_FOLDER, save_video_folder_name, one_seq)+'.mp4', cv2.VideoWriter_fourcc(*'VP90'), 1/view_single_img_t, size)\n",
    "    for i in tqdm(range(len(img_array))):\n",
    "        out.write(img_array[i])\n",
    "    out.release()\n",
    "    print('Done and check here: ', os.path.join(BASE_FOLDER, save_video_folder_name, one_seq)+'.mp4')"
   ]
  },
  {
   "cell_type": "code",
   "execution_count": null,
   "metadata": {},
   "outputs": [],
   "source": [
    "from ipywidgets import Video, Image\n",
    "new_ = Video.from_file(os.path.join(BASE_FOLDER, save_video_folder_name, one_seq)+'.mp4',play=True,width=1400, height=1400)\n",
    "new_"
   ]
  },
  {
   "cell_type": "code",
   "execution_count": null,
   "metadata": {},
   "outputs": [],
   "source": []
  }
 ],
 "metadata": {
  "kernelspec": {
   "display_name": "Python 3 (ipykernel)",
   "language": "python",
   "name": "python3"
  },
  "language_info": {
   "codemirror_mode": {
    "name": "ipython",
    "version": 3
   },
   "file_extension": ".py",
   "mimetype": "text/x-python",
   "name": "python",
   "nbconvert_exporter": "python",
   "pygments_lexer": "ipython3",
   "version": "3.10.12"
  }
 },
 "nbformat": 4,
 "nbformat_minor": 4
}
